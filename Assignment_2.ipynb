{
 "cells": [
  {
   "cell_type": "markdown",
   "id": "a5be1c15-f724-41c2-b9d1-2707b1abfa75",
   "metadata": {},
   "source": [
    "## Q1. How do you comment code in Python? What are the different types of comments?"
   ]
  },
  {
   "cell_type": "markdown",
   "id": "9fedc9be-3c54-4da0-8a2c-a9bd57a997bc",
   "metadata": {},
   "source": [
    "#### We can comment code by using the '#' symbol. \n",
    "#### There are :\n",
    "        1. Single line comment \n",
    "        2. Multi line comment \n",
    "        3. String literals"
   ]
  },
  {
   "cell_type": "markdown",
   "id": "45a5dad4-33bd-4c58-b43b-c975ef347bc2",
   "metadata": {},
   "source": [
    "## Q2. What are variables in Python? How do you declare and assign values to variables?"
   ]
  },
  {
   "cell_type": "markdown",
   "id": "84bf79b3-ef5f-49d7-8d2f-f44dcc6cb2a0",
   "metadata": {},
   "source": [
    "#### In Python, variables are used to store data values. A variable is essentially a name that references a memory location where a value is stored"
   ]
  },
  {
   "cell_type": "markdown",
   "id": "57b69a34-29df-490e-afae-39d70e945e52",
   "metadata": {},
   "source": [
    "## Q3. How do you convert one data type to another in Python?"
   ]
  },
  {
   "cell_type": "markdown",
   "id": "9241a589-df24-4ef2-b136-59551e7bbad1",
   "metadata": {},
   "source": [
    "#### We can convert one data type to another by apply a concept called type casting. These conversions can be done explicitly by using the corresponding conversion functions or implicitly through certain operations \n"
   ]
  },
  {
   "cell_type": "markdown",
   "id": "eae6c4b7-2e91-4f4c-b0af-7737513ce752",
   "metadata": {},
   "source": [
    "#### int() , str(), bool() , float() , list(), tuple() , set() "
   ]
  },
  {
   "cell_type": "markdown",
   "id": "922bff79-6b22-497e-a7a7-737ae64ea8bc",
   "metadata": {},
   "source": [
    "## Q4. How do you write and execute a Python script from the command line?"
   ]
  },
  {
   "cell_type": "markdown",
   "id": "9830b851-e671-4981-a6e8-3fcbfbac64b2",
   "metadata": {},
   "source": [
    "#### Step 1 : Write the Python script "
   ]
  },
  {
   "cell_type": "markdown",
   "id": "0bc3e045-e766-4f4c-98e9-6baec2efaccc",
   "metadata": {},
   "source": [
    "#### Step 2 : Open command line using Win + R or typing cmd "
   ]
  },
  {
   "cell_type": "markdown",
   "id": "848b948e-c978-4068-80df-37fd3cf3bfe6",
   "metadata": {},
   "source": [
    "#### Step 3 : Navigate to the script directory "
   ]
  },
  {
   "cell_type": "markdown",
   "id": "4f990f21-ddad-4cd8-836d-8d77a8e85a97",
   "metadata": {},
   "source": [
    "#### Step 4 : Execute the python script. Example \n",
    "\n",
    "    python my_program.py"
   ]
  },
  {
   "cell_type": "markdown",
   "id": "d368085a-c72f-4966-93c8-a150b30c7c01",
   "metadata": {},
   "source": [
    "#### Step 5 : Check the output in the console"
   ]
  },
  {
   "cell_type": "markdown",
   "id": "ce1fa647-4598-4e6f-9106-1a8682362980",
   "metadata": {},
   "source": [
    "## Q5. Given a list my_list = [1, 2, 3, 4, 5], write the code to slice the list and obtain the sub-list [2, 3]."
   ]
  },
  {
   "cell_type": "code",
   "execution_count": 94,
   "id": "b25d0705-6942-4f07-a779-cb5a5ad78a53",
   "metadata": {},
   "outputs": [],
   "source": [
    "my_list = [1,2,3,4,5]"
   ]
  },
  {
   "cell_type": "code",
   "execution_count": 95,
   "id": "a894654a-e37f-483d-8ee7-2bf320c41ad3",
   "metadata": {},
   "outputs": [
    {
     "data": {
      "text/plain": [
       "[2, 3]"
      ]
     },
     "execution_count": 95,
     "metadata": {},
     "output_type": "execute_result"
    }
   ],
   "source": [
    "my_list[1 : 3]"
   ]
  },
  {
   "cell_type": "markdown",
   "id": "0c1f0fb2-7f3c-45c5-9d2e-15796cc03152",
   "metadata": {},
   "source": [
    "## Q6. What is a complex number in mathematics, and how is it represented in Python?"
   ]
  },
  {
   "cell_type": "markdown",
   "id": "9e6de9b0-81ee-4f71-9512-81f5054542c0",
   "metadata": {},
   "source": [
    "#### A complex number is any number that can be written in the form z=a+bi z = a + b i where a is called the 'real' part and bi the 'imaginary' part"
   ]
  },
  {
   "cell_type": "markdown",
   "id": "887829f0-9717-4f55-a987-4f4f616bdead",
   "metadata": {},
   "source": [
    "#### To use complex number in python we have to make use of a package calles cmath and make use of z.real and z.imag to print out the real and the imaginary part of the number"
   ]
  },
  {
   "cell_type": "code",
   "execution_count": 99,
   "id": "8f482622-2bf8-4952-bd7d-929e64b0f51b",
   "metadata": {},
   "outputs": [
    {
     "name": "stdout",
     "output_type": "stream",
     "text": [
      "The real part of complex number is: 5.0\n",
      "The imaginary part of complex number is: 3.0\n"
     ]
    }
   ],
   "source": [
    "import cmath\n",
    "x = 5\n",
    "y = 3\n",
    "\n",
    "z = complex(x, y)\n",
    "\n",
    "# printing real and imaginary part of complex number\n",
    "print(\"The real part of complex number is:\", z.real)\n",
    "print(\"The imaginary part of complex number is:\", z.imag)"
   ]
  },
  {
   "cell_type": "markdown",
   "id": "850b031f-7e31-43d6-b00d-b9b84f390103",
   "metadata": {},
   "source": [
    "## Q7. What is the correct way to declare a variable named age and assign the value 25 to it?"
   ]
  },
  {
   "cell_type": "code",
   "execution_count": 101,
   "id": "e15ff6ab-5b21-4e90-86e8-865af964b25b",
   "metadata": {},
   "outputs": [],
   "source": [
    "age = 25 "
   ]
  },
  {
   "cell_type": "markdown",
   "id": "ebd2327a-dcb1-47c7-8309-ab00bcd7c37f",
   "metadata": {},
   "source": [
    "## Q8. Declare a variable named price and assign the value 9.99 to it. What data type does this variable \n",
    "belong to?"
   ]
  },
  {
   "cell_type": "code",
   "execution_count": 103,
   "id": "ad1f4cdf-6bb8-41a5-bef9-3246012b4f71",
   "metadata": {},
   "outputs": [
    {
     "name": "stdout",
     "output_type": "stream",
     "text": [
      "The type of the variable price is  <class 'float'>\n"
     ]
    }
   ],
   "source": [
    "price = 9.99\n",
    "\n",
    "print(\"The type of the variable price is \" , type(price))"
   ]
  },
  {
   "cell_type": "markdown",
   "id": "26484b69-8b30-4aaa-b135-2f8c80f8439f",
   "metadata": {},
   "source": [
    "## Q9. Create a variable named name and assign your full name to it as a string. How would you print the value of this variable?"
   ]
  },
  {
   "cell_type": "code",
   "execution_count": 105,
   "id": "4e491d75-ab36-4105-95e4-7993fc452213",
   "metadata": {},
   "outputs": [
    {
     "name": "stdout",
     "output_type": "stream",
     "text": [
      "Shantanil Hazarika\n"
     ]
    }
   ],
   "source": [
    "name = \"Shantanil Hazarika\" \n",
    "\n",
    "print(name)"
   ]
  },
  {
   "cell_type": "markdown",
   "id": "cf9382c6-fbff-4584-8623-81a79428dcfe",
   "metadata": {},
   "source": [
    "## Q10. Given the string \"Hello, World!\", extract the substring \"World\"."
   ]
  },
  {
   "cell_type": "code",
   "execution_count": 107,
   "id": "d5677042-c950-4024-aac2-2867dd12ccc2",
   "metadata": {},
   "outputs": [],
   "source": [
    "str = \"Hello, World!\""
   ]
  },
  {
   "cell_type": "code",
   "execution_count": 108,
   "id": "45075eda-fd53-4422-874a-b8b430feb027",
   "metadata": {},
   "outputs": [
    {
     "data": {
      "text/plain": [
       "'World'"
      ]
     },
     "execution_count": 108,
     "metadata": {},
     "output_type": "execute_result"
    }
   ],
   "source": [
    "str[7: 12]"
   ]
  },
  {
   "cell_type": "markdown",
   "id": "8382c062-365a-469a-8323-6ac06447f27a",
   "metadata": {},
   "source": [
    "## Q11. Create a variable named \"is_student\" and assign it a boolean value indicating whether you are currently a student or not."
   ]
  },
  {
   "cell_type": "code",
   "execution_count": 110,
   "id": "7e11eb10-f97e-4a18-97a7-6139b680be16",
   "metadata": {},
   "outputs": [],
   "source": [
    "is_student = True "
   ]
  }
 ],
 "metadata": {
  "kernelspec": {
   "display_name": "Python 3 (ipykernel)",
   "language": "python",
   "name": "python3"
  },
  "language_info": {
   "codemirror_mode": {
    "name": "ipython",
    "version": 3
   },
   "file_extension": ".py",
   "mimetype": "text/x-python",
   "name": "python",
   "nbconvert_exporter": "python",
   "pygments_lexer": "ipython3",
   "version": "3.12.4"
  }
 },
 "nbformat": 4,
 "nbformat_minor": 5
}
