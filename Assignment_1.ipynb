{
 "cells": [
  {
   "cell_type": "markdown",
   "id": "57fc3fef-3e41-48c9-b912-efc69a6b530c",
   "metadata": {},
   "source": [
    "### Q1. Create one variable containing the following type of data:\n",
    "        1. string \n",
    "        2. list \n",
    "        3. float \n",
    "        4. tupleple"
   ]
  },
  {
   "cell_type": "code",
   "execution_count": 6,
   "id": "6fc7d516-19d5-4a83-b03c-12232c2d3088",
   "metadata": {},
   "outputs": [],
   "source": [
    "name = \"Shantanil\" "
   ]
  },
  {
   "cell_type": "code",
   "execution_count": 8,
   "id": "1415e9ec-3721-440b-bce4-aa3f28c93070",
   "metadata": {},
   "outputs": [],
   "source": [
    "my_list = [\"shantanil\", \"hazarika\", 28, \"Male\"]"
   ]
  },
  {
   "cell_type": "code",
   "execution_count": 10,
   "id": "ca51a4d2-256b-4380-b1ea-c5124c540271",
   "metadata": {},
   "outputs": [],
   "source": [
    "my_float = 2.3"
   ]
  },
  {
   "cell_type": "code",
   "execution_count": 14,
   "id": "3d507166-003a-4485-879d-dff111095a28",
   "metadata": {},
   "outputs": [],
   "source": [
    "tup = (2,3)"
   ]
  },
  {
   "cell_type": "markdown",
   "id": "aa967aef-5671-405f-b717-d1ffbbd43cd1",
   "metadata": {},
   "source": [
    "### Q2. Given are some following variables containing data:= 1."
   ]
  },
  {
   "cell_type": "code",
   "execution_count": 23,
   "id": "13bee9b1-ee4a-44dc-903e-f5305662c7fb",
   "metadata": {},
   "outputs": [],
   "source": [
    "var1 = ''\n",
    "var2 = '[ DS , ML , Python]'\n",
    "var3 = [ 'DS' , 'ML' , 'Python' ]\n",
    "var4 = 1"
   ]
  },
  {
   "cell_type": "markdown",
   "id": "ac94cce8-d1f8-4fa9-ae0d-d2af3ad98d11",
   "metadata": {},
   "source": [
    "### What will be the data type of the above given variable."
   ]
  },
  {
   "cell_type": "code",
   "execution_count": 35,
   "id": "7c2b0eda-03ba-4bc8-8df2-1b9175c716a0",
   "metadata": {},
   "outputs": [
    {
     "name": "stdout",
     "output_type": "stream",
     "text": [
      "The data type of var1 is : <class 'str'>\n",
      "The data type of var2 is : <class 'str'>\n",
      "The data type of var3 is : <class 'list'>\n",
      "The data type of var4 is : <class 'int'>\n"
     ]
    }
   ],
   "source": [
    "print(f\"The data type of var1 is : {type(var1)}\") \n",
    "print(f\"The data type of var2 is : {type(var2)}\") \n",
    "print(f\"The data type of var3 is : {type(var3)}\") \n",
    "print(f\"The data type of var4 is : {type(var4)}\") "
   ]
  },
  {
   "cell_type": "markdown",
   "id": "751a7d43-abb5-4386-a0c7-323f72dcf35b",
   "metadata": {},
   "source": [
    "### Q3. Explain the use of the following operators using an example:\n",
    "(i) /\n",
    "(ii) %\n",
    "(iii) //\n",
    "(iv) **"
   ]
  },
  {
   "cell_type": "code",
   "execution_count": 38,
   "id": "14b4b4f7-a771-4f6d-8757-5745baefd2a0",
   "metadata": {},
   "outputs": [],
   "source": [
    "## / is used to divide a number\n",
    "\n",
    "result = 6/2\n",
    "\n",
    "## % is used to find the remainder of two digits being divided \n",
    "\n",
    "mod = 6 % 2 \n",
    "\n",
    "## // is used to do floor division \n",
    "\n",
    "floor = 40 // 3 \n",
    "\n",
    "## ** is used to for exponentiation\n",
    "\n",
    "exp = 4 ** 2"
   ]
  },
  {
   "cell_type": "markdown",
   "id": "4a430bfc-be49-4c61-9119-663552ef295a",
   "metadata": {},
   "source": [
    "#### Q4. Create a list of length 10 of your choice containing multiple types of data. Using for loop print."
   ]
  },
  {
   "cell_type": "markdown",
   "id": "3d1a32bc-5c6e-4abc-94f2-ad343e6066fd",
   "metadata": {},
   "source": [
    "####  the element and its data type."
   ]
  },
  {
   "cell_type": "code",
   "execution_count": null,
   "id": "ea9b365c-1701-4e9c-92e1-aa29cdf965ac",
   "metadata": {},
   "outputs": [],
   "source": [
    "my_list = [1,2,\"Eden\",\"Hazard\",55.6,\"Bernardo\",76,8,9,10]"
   ]
  },
  {
   "cell_type": "markdown",
   "id": "962300de-1d73-40b1-b9ca-6432a6727ca1",
   "metadata": {},
   "source": [
    "#### Q5. Using a while loop, verify if the number A is purely divisible by number B and if so then how many times it can be divisible."
   ]
  },
  {
   "cell_type": "code",
   "execution_count": 63,
   "id": "6dfadb2e-b942-425c-9784-51e554c1d415",
   "metadata": {},
   "outputs": [],
   "source": [
    "def check_divisibilty(A,B):\n",
    "\n",
    "    if B == 0 :\n",
    "        print(\"Division by 0 is not allow\")\n",
    "\n",
    "    while A%B == 0 :\n",
    "        A = A // B \n",
    "        count = count + 1\n",
    "        \n",
    "    if count == 0:\n",
    "        return f\"{A} is not divisible by {B}\"\n",
    "    else :\n",
    "        return f\"{A} is divisible by {B} {count} times\""
   ]
  },
  {
   "cell_type": "markdown",
   "id": "f7371703-5e1c-4364-9631-d23b7bd52720",
   "metadata": {},
   "source": [
    "#### Q6. Create a list containing 25 int type data. Using for loop and if-else condition print if the element is divisible by 3 or not."
   ]
  },
  {
   "cell_type": "code",
   "execution_count": 66,
   "id": "2e7730ce-08cc-4cce-a9d1-ba8082738fdb",
   "metadata": {},
   "outputs": [
    {
     "name": "stdout",
     "output_type": "stream",
     "text": [
      "The number is not divisible by 3\n",
      "The number is not divisible by 3\n",
      "3\n",
      "The number is not divisible by 3\n",
      "The number is not divisible by 3\n",
      "6\n",
      "The number is not divisible by 3\n",
      "The number is not divisible by 3\n",
      "9\n",
      "The number is not divisible by 3\n",
      "The number is not divisible by 3\n",
      "12\n",
      "The number is not divisible by 3\n",
      "The number is not divisible by 3\n",
      "15\n",
      "The number is not divisible by 3\n",
      "The number is not divisible by 3\n",
      "18\n",
      "The number is not divisible by 3\n",
      "The number is not divisible by 3\n",
      "21\n",
      "The number is not divisible by 3\n",
      "The number is not divisible by 3\n",
      "24\n",
      "The number is not divisible by 3\n"
     ]
    }
   ],
   "source": [
    "list_25 = [1,2,3,4,5,6,7,8,9,10,11,12,13,14,15,16,17,18,19,20,21,22,23,24,25]\n",
    "\n",
    "for i in list_25:\n",
    "    if (i % 3 == 0):\n",
    "        print(i)\n",
    "    else:\n",
    "        print(\"The number is not divisible by 3\")\n",
    "        "
   ]
  },
  {
   "cell_type": "markdown",
   "id": "1ef7951a-5cbc-4e9a-a7ad-bb12f65fe7eb",
   "metadata": {},
   "source": [
    "#### Q7. What do you understand about mutable and immutable data types? Give examples for both showing this property."
   ]
  },
  {
   "cell_type": "markdown",
   "id": "0ff7b04a-ddd9-45ef-b763-a047a55386ba",
   "metadata": {},
   "source": [
    "#### Mutability means that the content of the data type can be changed later. Example list and dictionaries are mutable whereas \n"
   ]
  },
  {
   "cell_type": "markdown",
   "id": "e468079c-00db-4e2a-b165-dad82f2d4ad8",
   "metadata": {},
   "source": [
    "#### Immutability means the content of the data type cannot be changed once it has been instantiated. Example : strings"
   ]
  },
  {
   "cell_type": "code",
   "execution_count": null,
   "id": "7c2211bb-482d-42d6-a370-f5053a4d311a",
   "metadata": {},
   "outputs": [],
   "source": []
  }
 ],
 "metadata": {
  "kernelspec": {
   "display_name": "Python 3 (ipykernel)",
   "language": "python",
   "name": "python3"
  },
  "language_info": {
   "codemirror_mode": {
    "name": "ipython",
    "version": 3
   },
   "file_extension": ".py",
   "mimetype": "text/x-python",
   "name": "python",
   "nbconvert_exporter": "python",
   "pygments_lexer": "ipython3",
   "version": "3.12.4"
  }
 },
 "nbformat": 4,
 "nbformat_minor": 5
}
